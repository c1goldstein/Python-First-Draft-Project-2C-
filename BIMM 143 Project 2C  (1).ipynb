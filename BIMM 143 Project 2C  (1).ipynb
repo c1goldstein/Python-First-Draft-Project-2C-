{
 "cells": [
  {
   "cell_type": "code",
   "execution_count": null,
   "id": "16ab21f7",
   "metadata": {},
   "outputs": [],
   "source": [
    "Scientific Question: Is there a correlation between UV exposure and the rate melanoma diagnoses in men and women?\n",
    "Hypothesis: If there is high exposure to UV radiation in a given location, then we can expect to see high rate of melanoma in both men and women. "
   ]
  },
  {
   "cell_type": "code",
   "execution_count": 32,
   "id": "ebf0adeb",
   "metadata": {},
   "outputs": [
    {
     "name": "stdout",
     "output_type": "stream",
     "text": [
      "Collecting plotly==5.4.0\n",
      "  Downloading plotly-5.4.0-py2.py3-none-any.whl (25.3 MB)\n",
      "Requirement already satisfied: six in c:\\users\\user\\anaconda3\\lib\\site-packages (from plotly==5.4.0) (1.15.0)\n",
      "Collecting tenacity>=6.2.0\n",
      "  Downloading tenacity-8.0.1-py3-none-any.whl (24 kB)\n",
      "Installing collected packages: tenacity, plotly\n",
      "Successfully installed plotly-5.4.0 tenacity-8.0.1\n"
     ]
    }
   ],
   "source": [
    "#Geocomputational Analysis\n",
    "import pandas as pd\n",
    "!pip install plotly==5.4.0\n",
    "import plotly as px"
   ]
  },
  {
   "cell_type": "code",
   "execution_count": 65,
   "id": "0e4c61af",
   "metadata": {},
   "outputs": [],
   "source": [
    "import plotly.express as px\n",
    "from statistics import mean"
   ]
  },
  {
   "cell_type": "code",
   "execution_count": 6,
   "id": "9c532d5c",
   "metadata": {
    "scrolled": true
   },
   "outputs": [
    {
     "data": {
      "text/html": [
       "<div>\n",
       "<style scoped>\n",
       "    .dataframe tbody tr th:only-of-type {\n",
       "        vertical-align: middle;\n",
       "    }\n",
       "\n",
       "    .dataframe tbody tr th {\n",
       "        vertical-align: top;\n",
       "    }\n",
       "\n",
       "    .dataframe thead th {\n",
       "        text-align: right;\n",
       "    }\n",
       "</style>\n",
       "<table border=\"1\" class=\"dataframe\">\n",
       "  <thead>\n",
       "    <tr style=\"text-align: right;\">\n",
       "      <th></th>\n",
       "      <th>abbreviation</th>\n",
       "      <th>latitude</th>\n",
       "      <th>longitude</th>\n",
       "      <th>country</th>\n",
       "    </tr>\n",
       "  </thead>\n",
       "  <tbody>\n",
       "    <tr>\n",
       "      <th>0</th>\n",
       "      <td>AD</td>\n",
       "      <td>42.546245</td>\n",
       "      <td>1.601554</td>\n",
       "      <td>Andorra</td>\n",
       "    </tr>\n",
       "    <tr>\n",
       "      <th>1</th>\n",
       "      <td>AE</td>\n",
       "      <td>23.424076</td>\n",
       "      <td>53.847818</td>\n",
       "      <td>United Arab Emirates</td>\n",
       "    </tr>\n",
       "    <tr>\n",
       "      <th>2</th>\n",
       "      <td>AF</td>\n",
       "      <td>33.939110</td>\n",
       "      <td>67.709953</td>\n",
       "      <td>Afghanistan</td>\n",
       "    </tr>\n",
       "    <tr>\n",
       "      <th>3</th>\n",
       "      <td>AG</td>\n",
       "      <td>17.060816</td>\n",
       "      <td>-61.796428</td>\n",
       "      <td>Antigua and Barbuda</td>\n",
       "    </tr>\n",
       "    <tr>\n",
       "      <th>4</th>\n",
       "      <td>AI</td>\n",
       "      <td>18.220554</td>\n",
       "      <td>-63.068615</td>\n",
       "      <td>Anguilla</td>\n",
       "    </tr>\n",
       "  </tbody>\n",
       "</table>\n",
       "</div>"
      ],
      "text/plain": [
       "  abbreviation   latitude  longitude               country\n",
       "0           AD  42.546245   1.601554               Andorra\n",
       "1           AE  23.424076  53.847818  United Arab Emirates\n",
       "2           AF  33.939110  67.709953           Afghanistan\n",
       "3           AG  17.060816 -61.796428   Antigua and Barbuda\n",
       "4           AI  18.220554 -63.068615              Anguilla"
      ]
     },
     "execution_count": 6,
     "metadata": {},
     "output_type": "execute_result"
    }
   ],
   "source": [
    "#Data taken from https://developers.google.com/public-data/docs/canonical/countries_csv\n",
    "#Converted data to csv file\n",
    "CountryCoordinates = pd.read_csv(\"CountryCoordinates.csv\")\n",
    "                   \n",
    "CountryCoordinates.head()"
   ]
  },
  {
   "cell_type": "code",
   "execution_count": 53,
   "id": "a85ea6b6",
   "metadata": {},
   "outputs": [
    {
     "data": {
      "text/html": [
       "<div>\n",
       "<style scoped>\n",
       "    .dataframe tbody tr th:only-of-type {\n",
       "        vertical-align: middle;\n",
       "    }\n",
       "\n",
       "    .dataframe tbody tr th {\n",
       "        vertical-align: top;\n",
       "    }\n",
       "\n",
       "    .dataframe thead th {\n",
       "        text-align: right;\n",
       "    }\n",
       "</style>\n",
       "<table border=\"1\" class=\"dataframe\">\n",
       "  <thead>\n",
       "    <tr style=\"text-align: right;\">\n",
       "      <th></th>\n",
       "      <th>Country</th>\n",
       "      <th>UV radiation</th>\n",
       "    </tr>\n",
       "  </thead>\n",
       "  <tbody>\n",
       "    <tr>\n",
       "      <th>0</th>\n",
       "      <td>Afghanistan</td>\n",
       "      <td>4132</td>\n",
       "    </tr>\n",
       "    <tr>\n",
       "      <th>1</th>\n",
       "      <td>Albania</td>\n",
       "      <td>2542</td>\n",
       "    </tr>\n",
       "    <tr>\n",
       "      <th>2</th>\n",
       "      <td>Algeria</td>\n",
       "      <td>3253</td>\n",
       "    </tr>\n",
       "    <tr>\n",
       "      <th>3</th>\n",
       "      <td>Andorra</td>\n",
       "      <td>2469</td>\n",
       "    </tr>\n",
       "    <tr>\n",
       "      <th>4</th>\n",
       "      <td>Angola</td>\n",
       "      <td>5287</td>\n",
       "    </tr>\n",
       "  </tbody>\n",
       "</table>\n",
       "</div>"
      ],
      "text/plain": [
       "       Country  UV radiation\n",
       "0  Afghanistan          4132\n",
       "1      Albania          2542\n",
       "2      Algeria          3253\n",
       "3      Andorra          2469\n",
       "4       Angola          5287"
      ]
     },
     "execution_count": 53,
     "metadata": {},
     "output_type": "execute_result"
    }
   ],
   "source": [
    "#Data taken from https://apps.who.int/gho/data/view.main.35300\n",
    "#Converted data to csv file\n",
    "UVRadiation = pd.read_csv(\"UVRadiation.csv\")\n",
    "                   \n",
    "UVRadiation.head()"
   ]
  },
  {
   "cell_type": "code",
   "execution_count": 33,
   "id": "561a500c",
   "metadata": {},
   "outputs": [
    {
     "data": {
      "text/html": [
       "<div>\n",
       "<style scoped>\n",
       "    .dataframe tbody tr th:only-of-type {\n",
       "        vertical-align: middle;\n",
       "    }\n",
       "\n",
       "    .dataframe tbody tr th {\n",
       "        vertical-align: top;\n",
       "    }\n",
       "\n",
       "    .dataframe thead th {\n",
       "        text-align: right;\n",
       "    }\n",
       "</style>\n",
       "<table border=\"1\" class=\"dataframe\">\n",
       "  <thead>\n",
       "    <tr style=\"text-align: right;\">\n",
       "      <th></th>\n",
       "      <th>abbreviation</th>\n",
       "      <th>latitude</th>\n",
       "      <th>longitude</th>\n",
       "      <th>country</th>\n",
       "      <th>Country</th>\n",
       "      <th>UV radiation</th>\n",
       "    </tr>\n",
       "  </thead>\n",
       "  <tbody>\n",
       "    <tr>\n",
       "      <th>0</th>\n",
       "      <td>AD</td>\n",
       "      <td>42.546245</td>\n",
       "      <td>1.601554</td>\n",
       "      <td>Andorra</td>\n",
       "      <td>Andorra</td>\n",
       "      <td>2469</td>\n",
       "    </tr>\n",
       "    <tr>\n",
       "      <th>1</th>\n",
       "      <td>AE</td>\n",
       "      <td>23.424076</td>\n",
       "      <td>53.847818</td>\n",
       "      <td>United Arab Emirates</td>\n",
       "      <td>United Arab Emirates</td>\n",
       "      <td>4862</td>\n",
       "    </tr>\n",
       "    <tr>\n",
       "      <th>2</th>\n",
       "      <td>AF</td>\n",
       "      <td>33.939110</td>\n",
       "      <td>67.709953</td>\n",
       "      <td>Afghanistan</td>\n",
       "      <td>Afghanistan</td>\n",
       "      <td>4132</td>\n",
       "    </tr>\n",
       "    <tr>\n",
       "      <th>3</th>\n",
       "      <td>AG</td>\n",
       "      <td>17.060816</td>\n",
       "      <td>-61.796428</td>\n",
       "      <td>Antigua and Barbuda</td>\n",
       "      <td>Antigua and Barbuda</td>\n",
       "      <td>5148</td>\n",
       "    </tr>\n",
       "    <tr>\n",
       "      <th>4</th>\n",
       "      <td>AL</td>\n",
       "      <td>41.153332</td>\n",
       "      <td>20.168331</td>\n",
       "      <td>Albania</td>\n",
       "      <td>Albania</td>\n",
       "      <td>2542</td>\n",
       "    </tr>\n",
       "  </tbody>\n",
       "</table>\n",
       "</div>"
      ],
      "text/plain": [
       "  abbreviation   latitude  longitude               country  \\\n",
       "0           AD  42.546245   1.601554               Andorra   \n",
       "1           AE  23.424076  53.847818  United Arab Emirates   \n",
       "2           AF  33.939110  67.709953           Afghanistan   \n",
       "3           AG  17.060816 -61.796428   Antigua and Barbuda   \n",
       "4           AL  41.153332  20.168331               Albania   \n",
       "\n",
       "                Country  UV radiation  \n",
       "0               Andorra          2469  \n",
       "1  United Arab Emirates          4862  \n",
       "2           Afghanistan          4132  \n",
       "3   Antigua and Barbuda          5148  \n",
       "4               Albania          2542  "
      ]
     },
     "execution_count": 33,
     "metadata": {},
     "output_type": "execute_result"
    }
   ],
   "source": [
    "#Merged the two datatables above\n",
    "#Referenced https://jakevdp.github.io/PythonDataScienceHandbook/03.07-merge-and-join.html\n",
    "\n",
    "merged_world_stats = pd.merge(CountryCoordinates, UVRadiation, left_on='country', right_on='Country')\n",
    "\n",
    "merged_world_stats.head()"
   ]
  },
  {
   "cell_type": "code",
   "execution_count": 51,
   "id": "a9662710",
   "metadata": {
    "scrolled": true
   },
   "outputs": [
    {
     "data": {
      "application/vnd.plotly.v1+json": {
       "config": {
        "plotlyServerURL": "https://plot.ly"
       },
       "data": [
        {
         "coloraxis": "coloraxis",
         "hovertemplate": "Country=%{location}<br>UV radiation rates=%{z}<extra></extra>",
         "locations": [
          "Andorra",
          "United Arab Emirates",
          "Afghanistan",
          "Antigua and Barbuda",
          "Albania",
          "Armenia",
          "Angola",
          "Argentina",
          "Austria",
          "Australia",
          "Azerbaijan",
          "Bosnia and Herzegovina",
          "Barbados",
          "Bangladesh",
          "Belgium",
          "Burkina Faso",
          "Bulgaria",
          "Bahrain",
          "Burundi",
          "Benin",
          "Brazil",
          "Bahamas",
          "Bhutan",
          "Botswana",
          "Belarus",
          "Belize",
          "Canada",
          "Central African Republic",
          "Switzerland",
          "Côte d'Ivoire",
          "Cook Islands",
          "Chile",
          "Cameroon",
          "China",
          "Colombia",
          "Costa Rica",
          "Cuba",
          "Cyprus",
          "Germany",
          "Djibouti",
          "Denmark",
          "Dominica",
          "Dominican Republic",
          "Algeria",
          "Ecuador",
          "Estonia",
          "Egypt",
          "Eritrea",
          "Spain",
          "Ethiopia",
          "Finland",
          "Fiji",
          "France",
          "Gabon",
          "Grenada",
          "Georgia",
          "Ghana",
          "Gambia",
          "Guinea",
          "Equatorial Guinea",
          "Greece",
          "Guatemala",
          "Guinea-Bissau",
          "Guyana",
          "Honduras",
          "Croatia",
          "Haiti",
          "Hungary",
          "Indonesia",
          "Ireland",
          "Israel",
          "India",
          "Iraq",
          "Iceland",
          "Italy",
          "Jamaica",
          "Jordan",
          "Japan",
          "Kenya",
          "Kyrgyzstan",
          "Cambodia",
          "Kiribati",
          "Comoros",
          "Saint Kitts and Nevis",
          "Kuwait",
          "Kazakhstan",
          "Lebanon",
          "Saint Lucia",
          "Sri Lanka",
          "Liberia",
          "Lesotho",
          "Lithuania",
          "Luxembourg",
          "Latvia",
          "Libya",
          "Morocco",
          "Monaco",
          "Madagascar",
          "Marshall Islands",
          "Mali",
          "Mongolia",
          "Mauritania",
          "Malta",
          "Mauritius",
          "Maldives",
          "Malawi",
          "Mexico",
          "Malaysia",
          "Mozambique",
          "Niger",
          "Nigeria",
          "Nicaragua",
          "Netherlands",
          "Norway",
          "Nepal",
          "Nauru",
          "Niue",
          "New Zealand",
          "Oman",
          "Panama",
          "Peru",
          "Papua New Guinea",
          "Philippines",
          "Pakistan",
          "Poland",
          "Portugal",
          "Palau",
          "Paraguay",
          "Qatar",
          "Romania",
          "Rwanda",
          "Saudi Arabia",
          "Solomon Islands",
          "Seychelles",
          "Sudan",
          "Sweden",
          "Singapore",
          "Slovenia",
          "Slovakia",
          "Sierra Leone",
          "San Marino",
          "Senegal",
          "Somalia",
          "Suriname",
          "El Salvador",
          "Chad",
          "Togo",
          "Thailand",
          "Tajikistan",
          "Timor-Leste",
          "Turkmenistan",
          "Tunisia",
          "Tonga",
          "Turkey",
          "Trinidad and Tobago",
          "Tuvalu",
          "Ukraine",
          "Uganda",
          "Uruguay",
          "Uzbekistan",
          "Saint Vincent and the Grenadines",
          "Vanuatu",
          "Samoa",
          "Yemen",
          "South Africa",
          "Zambia",
          "Zimbabwe"
         ],
         "marker": {
          "opacity": 0.5
         },
         "name": "",
         "subplot": "mapbox",
         "type": "choroplethmapbox",
         "z": [
          2469,
          4862,
          4132,
          5148,
          2542,
          2899,
          5287,
          3476,
          1888,
          3206,
          2702,
          2205,
          5787,
          4029,
          1645,
          5567,
          2331,
          4419,
          5111,
          5168,
          4552,
          4119,
          4180,
          4868,
          1795,
          4639,
          1887,
          5498,
          2158,
          4931,
          4708,
          3982,
          5185,
          2908,
          5385,
          4884,
          4401,
          3439,
          1812,
          5461,
          1691,
          5464,
          4880,
          3253,
          4929,
          1781,
          4202,
          5914,
          2705,
          5929,
          1494,
          4431,
          1907,
          4654,
          4875,
          2489,
          5166,
          5358,
          5391,
          4635,
          2753,
          5141,
          5319,
          5203,
          4924,
          1976,
          5016,
          1932,
          5220,
          1509,
          3682,
          4514,
          3825,
          957,
          2444,
          4942,
          4026,
          2521,
          5803,
          3094,
          5152,
          6229,
          5524,
          5009,
          4214,
          2257,
          2953,
          5164,
          5264,
          4926,
          4439,
          1801,
          1687,
          1671,
          3861,
          3568,
          1907,
          4771,
          5325,
          5617,
          2226,
          5547,
          3091,
          5055,
          10224,
          5019,
          4974,
          5225,
          4646,
          5811,
          5251,
          5078,
          1662,
          1439,
          4130,
          3022,
          4687,
          2487,
          5102,
          4898,
          5906,
          5377,
          4928,
          4227,
          1749,
          2585,
          5175,
          4038,
          4905,
          2071,
          5130,
          5384,
          4071,
          5570,
          5783,
          1587,
          3979,
          2256,
          1795,
          5087,
          1932,
          5356,
          5773,
          4799,
          5364,
          5669,
          5307,
          4862,
          3538,
          5637,
          3164,
          3262,
          4087,
          2924,
          5245,
          5465,
          1843,
          5499,
          3235,
          3172,
          5358,
          4555,
          4966,
          6089,
          4111,
          5265,
          4918
         ]
        }
       ],
       "layout": {
        "coloraxis": {
         "cmax": 12,
         "cmin": 0,
         "colorbar": {
          "title": {
           "text": "UV radiation rates"
          }
         },
         "colorscale": [
          [
           0,
           "rgb(3, 35, 51)"
          ],
          [
           0.09090909090909091,
           "rgb(13, 48, 100)"
          ],
          [
           0.18181818181818182,
           "rgb(53, 50, 155)"
          ],
          [
           0.2727272727272727,
           "rgb(93, 62, 153)"
          ],
          [
           0.36363636363636365,
           "rgb(126, 77, 143)"
          ],
          [
           0.45454545454545453,
           "rgb(158, 89, 135)"
          ],
          [
           0.5454545454545454,
           "rgb(193, 100, 121)"
          ],
          [
           0.6363636363636364,
           "rgb(225, 113, 97)"
          ],
          [
           0.7272727272727273,
           "rgb(246, 139, 69)"
          ],
          [
           0.8181818181818182,
           "rgb(251, 173, 60)"
          ],
          [
           0.9090909090909091,
           "rgb(246, 211, 70)"
          ],
          [
           1,
           "rgb(231, 250, 90)"
          ]
         ]
        },
        "legend": {
         "tracegroupgap": 0
        },
        "mapbox": {
         "center": {},
         "domain": {
          "x": [
           0,
           1
          ],
          "y": [
           0,
           1
          ]
         },
         "style": "carto-positron",
         "zoom": 1
        },
        "template": {
         "data": {
          "bar": [
           {
            "error_x": {
             "color": "#2a3f5f"
            },
            "error_y": {
             "color": "#2a3f5f"
            },
            "marker": {
             "line": {
              "color": "#E5ECF6",
              "width": 0.5
             },
             "pattern": {
              "fillmode": "overlay",
              "size": 10,
              "solidity": 0.2
             }
            },
            "type": "bar"
           }
          ],
          "barpolar": [
           {
            "marker": {
             "line": {
              "color": "#E5ECF6",
              "width": 0.5
             },
             "pattern": {
              "fillmode": "overlay",
              "size": 10,
              "solidity": 0.2
             }
            },
            "type": "barpolar"
           }
          ],
          "carpet": [
           {
            "aaxis": {
             "endlinecolor": "#2a3f5f",
             "gridcolor": "white",
             "linecolor": "white",
             "minorgridcolor": "white",
             "startlinecolor": "#2a3f5f"
            },
            "baxis": {
             "endlinecolor": "#2a3f5f",
             "gridcolor": "white",
             "linecolor": "white",
             "minorgridcolor": "white",
             "startlinecolor": "#2a3f5f"
            },
            "type": "carpet"
           }
          ],
          "choropleth": [
           {
            "colorbar": {
             "outlinewidth": 0,
             "ticks": ""
            },
            "type": "choropleth"
           }
          ],
          "contour": [
           {
            "colorbar": {
             "outlinewidth": 0,
             "ticks": ""
            },
            "colorscale": [
             [
              0,
              "#0d0887"
             ],
             [
              0.1111111111111111,
              "#46039f"
             ],
             [
              0.2222222222222222,
              "#7201a8"
             ],
             [
              0.3333333333333333,
              "#9c179e"
             ],
             [
              0.4444444444444444,
              "#bd3786"
             ],
             [
              0.5555555555555556,
              "#d8576b"
             ],
             [
              0.6666666666666666,
              "#ed7953"
             ],
             [
              0.7777777777777778,
              "#fb9f3a"
             ],
             [
              0.8888888888888888,
              "#fdca26"
             ],
             [
              1,
              "#f0f921"
             ]
            ],
            "type": "contour"
           }
          ],
          "contourcarpet": [
           {
            "colorbar": {
             "outlinewidth": 0,
             "ticks": ""
            },
            "type": "contourcarpet"
           }
          ],
          "heatmap": [
           {
            "colorbar": {
             "outlinewidth": 0,
             "ticks": ""
            },
            "colorscale": [
             [
              0,
              "#0d0887"
             ],
             [
              0.1111111111111111,
              "#46039f"
             ],
             [
              0.2222222222222222,
              "#7201a8"
             ],
             [
              0.3333333333333333,
              "#9c179e"
             ],
             [
              0.4444444444444444,
              "#bd3786"
             ],
             [
              0.5555555555555556,
              "#d8576b"
             ],
             [
              0.6666666666666666,
              "#ed7953"
             ],
             [
              0.7777777777777778,
              "#fb9f3a"
             ],
             [
              0.8888888888888888,
              "#fdca26"
             ],
             [
              1,
              "#f0f921"
             ]
            ],
            "type": "heatmap"
           }
          ],
          "heatmapgl": [
           {
            "colorbar": {
             "outlinewidth": 0,
             "ticks": ""
            },
            "colorscale": [
             [
              0,
              "#0d0887"
             ],
             [
              0.1111111111111111,
              "#46039f"
             ],
             [
              0.2222222222222222,
              "#7201a8"
             ],
             [
              0.3333333333333333,
              "#9c179e"
             ],
             [
              0.4444444444444444,
              "#bd3786"
             ],
             [
              0.5555555555555556,
              "#d8576b"
             ],
             [
              0.6666666666666666,
              "#ed7953"
             ],
             [
              0.7777777777777778,
              "#fb9f3a"
             ],
             [
              0.8888888888888888,
              "#fdca26"
             ],
             [
              1,
              "#f0f921"
             ]
            ],
            "type": "heatmapgl"
           }
          ],
          "histogram": [
           {
            "marker": {
             "pattern": {
              "fillmode": "overlay",
              "size": 10,
              "solidity": 0.2
             }
            },
            "type": "histogram"
           }
          ],
          "histogram2d": [
           {
            "colorbar": {
             "outlinewidth": 0,
             "ticks": ""
            },
            "colorscale": [
             [
              0,
              "#0d0887"
             ],
             [
              0.1111111111111111,
              "#46039f"
             ],
             [
              0.2222222222222222,
              "#7201a8"
             ],
             [
              0.3333333333333333,
              "#9c179e"
             ],
             [
              0.4444444444444444,
              "#bd3786"
             ],
             [
              0.5555555555555556,
              "#d8576b"
             ],
             [
              0.6666666666666666,
              "#ed7953"
             ],
             [
              0.7777777777777778,
              "#fb9f3a"
             ],
             [
              0.8888888888888888,
              "#fdca26"
             ],
             [
              1,
              "#f0f921"
             ]
            ],
            "type": "histogram2d"
           }
          ],
          "histogram2dcontour": [
           {
            "colorbar": {
             "outlinewidth": 0,
             "ticks": ""
            },
            "colorscale": [
             [
              0,
              "#0d0887"
             ],
             [
              0.1111111111111111,
              "#46039f"
             ],
             [
              0.2222222222222222,
              "#7201a8"
             ],
             [
              0.3333333333333333,
              "#9c179e"
             ],
             [
              0.4444444444444444,
              "#bd3786"
             ],
             [
              0.5555555555555556,
              "#d8576b"
             ],
             [
              0.6666666666666666,
              "#ed7953"
             ],
             [
              0.7777777777777778,
              "#fb9f3a"
             ],
             [
              0.8888888888888888,
              "#fdca26"
             ],
             [
              1,
              "#f0f921"
             ]
            ],
            "type": "histogram2dcontour"
           }
          ],
          "mesh3d": [
           {
            "colorbar": {
             "outlinewidth": 0,
             "ticks": ""
            },
            "type": "mesh3d"
           }
          ],
          "parcoords": [
           {
            "line": {
             "colorbar": {
              "outlinewidth": 0,
              "ticks": ""
             }
            },
            "type": "parcoords"
           }
          ],
          "pie": [
           {
            "automargin": true,
            "type": "pie"
           }
          ],
          "scatter": [
           {
            "marker": {
             "colorbar": {
              "outlinewidth": 0,
              "ticks": ""
             }
            },
            "type": "scatter"
           }
          ],
          "scatter3d": [
           {
            "line": {
             "colorbar": {
              "outlinewidth": 0,
              "ticks": ""
             }
            },
            "marker": {
             "colorbar": {
              "outlinewidth": 0,
              "ticks": ""
             }
            },
            "type": "scatter3d"
           }
          ],
          "scattercarpet": [
           {
            "marker": {
             "colorbar": {
              "outlinewidth": 0,
              "ticks": ""
             }
            },
            "type": "scattercarpet"
           }
          ],
          "scattergeo": [
           {
            "marker": {
             "colorbar": {
              "outlinewidth": 0,
              "ticks": ""
             }
            },
            "type": "scattergeo"
           }
          ],
          "scattergl": [
           {
            "marker": {
             "colorbar": {
              "outlinewidth": 0,
              "ticks": ""
             }
            },
            "type": "scattergl"
           }
          ],
          "scattermapbox": [
           {
            "marker": {
             "colorbar": {
              "outlinewidth": 0,
              "ticks": ""
             }
            },
            "type": "scattermapbox"
           }
          ],
          "scatterpolar": [
           {
            "marker": {
             "colorbar": {
              "outlinewidth": 0,
              "ticks": ""
             }
            },
            "type": "scatterpolar"
           }
          ],
          "scatterpolargl": [
           {
            "marker": {
             "colorbar": {
              "outlinewidth": 0,
              "ticks": ""
             }
            },
            "type": "scatterpolargl"
           }
          ],
          "scatterternary": [
           {
            "marker": {
             "colorbar": {
              "outlinewidth": 0,
              "ticks": ""
             }
            },
            "type": "scatterternary"
           }
          ],
          "surface": [
           {
            "colorbar": {
             "outlinewidth": 0,
             "ticks": ""
            },
            "colorscale": [
             [
              0,
              "#0d0887"
             ],
             [
              0.1111111111111111,
              "#46039f"
             ],
             [
              0.2222222222222222,
              "#7201a8"
             ],
             [
              0.3333333333333333,
              "#9c179e"
             ],
             [
              0.4444444444444444,
              "#bd3786"
             ],
             [
              0.5555555555555556,
              "#d8576b"
             ],
             [
              0.6666666666666666,
              "#ed7953"
             ],
             [
              0.7777777777777778,
              "#fb9f3a"
             ],
             [
              0.8888888888888888,
              "#fdca26"
             ],
             [
              1,
              "#f0f921"
             ]
            ],
            "type": "surface"
           }
          ],
          "table": [
           {
            "cells": {
             "fill": {
              "color": "#EBF0F8"
             },
             "line": {
              "color": "white"
             }
            },
            "header": {
             "fill": {
              "color": "#C8D4E3"
             },
             "line": {
              "color": "white"
             }
            },
            "type": "table"
           }
          ]
         },
         "layout": {
          "annotationdefaults": {
           "arrowcolor": "#2a3f5f",
           "arrowhead": 0,
           "arrowwidth": 1
          },
          "autotypenumbers": "strict",
          "coloraxis": {
           "colorbar": {
            "outlinewidth": 0,
            "ticks": ""
           }
          },
          "colorscale": {
           "diverging": [
            [
             0,
             "#8e0152"
            ],
            [
             0.1,
             "#c51b7d"
            ],
            [
             0.2,
             "#de77ae"
            ],
            [
             0.3,
             "#f1b6da"
            ],
            [
             0.4,
             "#fde0ef"
            ],
            [
             0.5,
             "#f7f7f7"
            ],
            [
             0.6,
             "#e6f5d0"
            ],
            [
             0.7,
             "#b8e186"
            ],
            [
             0.8,
             "#7fbc41"
            ],
            [
             0.9,
             "#4d9221"
            ],
            [
             1,
             "#276419"
            ]
           ],
           "sequential": [
            [
             0,
             "#0d0887"
            ],
            [
             0.1111111111111111,
             "#46039f"
            ],
            [
             0.2222222222222222,
             "#7201a8"
            ],
            [
             0.3333333333333333,
             "#9c179e"
            ],
            [
             0.4444444444444444,
             "#bd3786"
            ],
            [
             0.5555555555555556,
             "#d8576b"
            ],
            [
             0.6666666666666666,
             "#ed7953"
            ],
            [
             0.7777777777777778,
             "#fb9f3a"
            ],
            [
             0.8888888888888888,
             "#fdca26"
            ],
            [
             1,
             "#f0f921"
            ]
           ],
           "sequentialminus": [
            [
             0,
             "#0d0887"
            ],
            [
             0.1111111111111111,
             "#46039f"
            ],
            [
             0.2222222222222222,
             "#7201a8"
            ],
            [
             0.3333333333333333,
             "#9c179e"
            ],
            [
             0.4444444444444444,
             "#bd3786"
            ],
            [
             0.5555555555555556,
             "#d8576b"
            ],
            [
             0.6666666666666666,
             "#ed7953"
            ],
            [
             0.7777777777777778,
             "#fb9f3a"
            ],
            [
             0.8888888888888888,
             "#fdca26"
            ],
            [
             1,
             "#f0f921"
            ]
           ]
          },
          "colorway": [
           "#636efa",
           "#EF553B",
           "#00cc96",
           "#ab63fa",
           "#FFA15A",
           "#19d3f3",
           "#FF6692",
           "#B6E880",
           "#FF97FF",
           "#FECB52"
          ],
          "font": {
           "color": "#2a3f5f"
          },
          "geo": {
           "bgcolor": "white",
           "lakecolor": "white",
           "landcolor": "#E5ECF6",
           "showlakes": true,
           "showland": true,
           "subunitcolor": "white"
          },
          "hoverlabel": {
           "align": "left"
          },
          "hovermode": "closest",
          "mapbox": {
           "style": "light"
          },
          "paper_bgcolor": "white",
          "plot_bgcolor": "#E5ECF6",
          "polar": {
           "angularaxis": {
            "gridcolor": "white",
            "linecolor": "white",
            "ticks": ""
           },
           "bgcolor": "#E5ECF6",
           "radialaxis": {
            "gridcolor": "white",
            "linecolor": "white",
            "ticks": ""
           }
          },
          "scene": {
           "xaxis": {
            "backgroundcolor": "#E5ECF6",
            "gridcolor": "white",
            "gridwidth": 2,
            "linecolor": "white",
            "showbackground": true,
            "ticks": "",
            "zerolinecolor": "white"
           },
           "yaxis": {
            "backgroundcolor": "#E5ECF6",
            "gridcolor": "white",
            "gridwidth": 2,
            "linecolor": "white",
            "showbackground": true,
            "ticks": "",
            "zerolinecolor": "white"
           },
           "zaxis": {
            "backgroundcolor": "#E5ECF6",
            "gridcolor": "white",
            "gridwidth": 2,
            "linecolor": "white",
            "showbackground": true,
            "ticks": "",
            "zerolinecolor": "white"
           }
          },
          "shapedefaults": {
           "line": {
            "color": "#2a3f5f"
           }
          },
          "ternary": {
           "aaxis": {
            "gridcolor": "white",
            "linecolor": "white",
            "ticks": ""
           },
           "baxis": {
            "gridcolor": "white",
            "linecolor": "white",
            "ticks": ""
           },
           "bgcolor": "#E5ECF6",
           "caxis": {
            "gridcolor": "white",
            "linecolor": "white",
            "ticks": ""
           }
          },
          "title": {
           "x": 0.05
          },
          "xaxis": {
           "automargin": true,
           "gridcolor": "white",
           "linecolor": "white",
           "ticks": "",
           "title": {
            "standoff": 15
           },
           "zerolinecolor": "white",
           "zerolinewidth": 2
          },
          "yaxis": {
           "automargin": true,
           "gridcolor": "white",
           "linecolor": "white",
           "ticks": "",
           "title": {
            "standoff": 15
           },
           "zerolinecolor": "white",
           "zerolinewidth": 2
          }
         }
        },
        "title": {
         "text": "UV Radiation across the World"
        }
       }
      },
      "text/html": [
       "<div>                            <div id=\"a19ce100-8116-4d14-8cde-a4035ff04375\" class=\"plotly-graph-div\" style=\"height:525px; width:100%;\"></div>            <script type=\"text/javascript\">                require([\"plotly\"], function(Plotly) {                    window.PLOTLYENV=window.PLOTLYENV || {};                                    if (document.getElementById(\"a19ce100-8116-4d14-8cde-a4035ff04375\")) {                    Plotly.newPlot(                        \"a19ce100-8116-4d14-8cde-a4035ff04375\",                        [{\"coloraxis\":\"coloraxis\",\"hovertemplate\":\"Country=%{location}<br>UV radiation rates=%{z}<extra></extra>\",\"locations\":[\"Andorra\",\"United Arab Emirates\",\"Afghanistan\",\"Antigua and Barbuda\",\"Albania\",\"Armenia\",\"Angola\",\"Argentina\",\"Austria\",\"Australia\",\"Azerbaijan\",\"Bosnia and Herzegovina\",\"Barbados\",\"Bangladesh\",\"Belgium\",\"Burkina Faso\",\"Bulgaria\",\"Bahrain\",\"Burundi\",\"Benin\",\"Brazil\",\"Bahamas\",\"Bhutan\",\"Botswana\",\"Belarus\",\"Belize\",\"Canada\",\"Central African Republic\",\"Switzerland\",\"C\\u00f4te d'Ivoire\",\"Cook Islands\",\"Chile\",\"Cameroon\",\"China\",\"Colombia\",\"Costa Rica\",\"Cuba\",\"Cyprus\",\"Germany\",\"Djibouti\",\"Denmark\",\"Dominica\",\"Dominican Republic\",\"Algeria\",\"Ecuador\",\"Estonia\",\"Egypt\",\"Eritrea\",\"Spain\",\"Ethiopia\",\"Finland\",\"Fiji\",\"France\",\"Gabon\",\"Grenada\",\"Georgia\",\"Ghana\",\"Gambia\",\"Guinea\",\"Equatorial Guinea\",\"Greece\",\"Guatemala\",\"Guinea-Bissau\",\"Guyana\",\"Honduras\",\"Croatia\",\"Haiti\",\"Hungary\",\"Indonesia\",\"Ireland\",\"Israel\",\"India\",\"Iraq\",\"Iceland\",\"Italy\",\"Jamaica\",\"Jordan\",\"Japan\",\"Kenya\",\"Kyrgyzstan\",\"Cambodia\",\"Kiribati\",\"Comoros\",\"Saint Kitts and Nevis\",\"Kuwait\",\"Kazakhstan\",\"Lebanon\",\"Saint Lucia\",\"Sri Lanka\",\"Liberia\",\"Lesotho\",\"Lithuania\",\"Luxembourg\",\"Latvia\",\"Libya\",\"Morocco\",\"Monaco\",\"Madagascar\",\"Marshall Islands\",\"Mali\",\"Mongolia\",\"Mauritania\",\"Malta\",\"Mauritius\",\"Maldives\",\"Malawi\",\"Mexico\",\"Malaysia\",\"Mozambique\",\"Niger\",\"Nigeria\",\"Nicaragua\",\"Netherlands\",\"Norway\",\"Nepal\",\"Nauru\",\"Niue\",\"New Zealand\",\"Oman\",\"Panama\",\"Peru\",\"Papua New Guinea\",\"Philippines\",\"Pakistan\",\"Poland\",\"Portugal\",\"Palau\",\"Paraguay\",\"Qatar\",\"Romania\",\"Rwanda\",\"Saudi Arabia\",\"Solomon Islands\",\"Seychelles\",\"Sudan\",\"Sweden\",\"Singapore\",\"Slovenia\",\"Slovakia\",\"Sierra Leone\",\"San Marino\",\"Senegal\",\"Somalia\",\"Suriname\",\"El Salvador\",\"Chad\",\"Togo\",\"Thailand\",\"Tajikistan\",\"Timor-Leste\",\"Turkmenistan\",\"Tunisia\",\"Tonga\",\"Turkey\",\"Trinidad and Tobago\",\"Tuvalu\",\"Ukraine\",\"Uganda\",\"Uruguay\",\"Uzbekistan\",\"Saint Vincent and the Grenadines\",\"Vanuatu\",\"Samoa\",\"Yemen\",\"South Africa\",\"Zambia\",\"Zimbabwe\"],\"marker\":{\"opacity\":0.5},\"name\":\"\",\"subplot\":\"mapbox\",\"z\":[2469,4862,4132,5148,2542,2899,5287,3476,1888,3206,2702,2205,5787,4029,1645,5567,2331,4419,5111,5168,4552,4119,4180,4868,1795,4639,1887,5498,2158,4931,4708,3982,5185,2908,5385,4884,4401,3439,1812,5461,1691,5464,4880,3253,4929,1781,4202,5914,2705,5929,1494,4431,1907,4654,4875,2489,5166,5358,5391,4635,2753,5141,5319,5203,4924,1976,5016,1932,5220,1509,3682,4514,3825,957,2444,4942,4026,2521,5803,3094,5152,6229,5524,5009,4214,2257,2953,5164,5264,4926,4439,1801,1687,1671,3861,3568,1907,4771,5325,5617,2226,5547,3091,5055,10224,5019,4974,5225,4646,5811,5251,5078,1662,1439,4130,3022,4687,2487,5102,4898,5906,5377,4928,4227,1749,2585,5175,4038,4905,2071,5130,5384,4071,5570,5783,1587,3979,2256,1795,5087,1932,5356,5773,4799,5364,5669,5307,4862,3538,5637,3164,3262,4087,2924,5245,5465,1843,5499,3235,3172,5358,4555,4966,6089,4111,5265,4918],\"type\":\"choroplethmapbox\"}],                        {\"template\":{\"data\":{\"bar\":[{\"error_x\":{\"color\":\"#2a3f5f\"},\"error_y\":{\"color\":\"#2a3f5f\"},\"marker\":{\"line\":{\"color\":\"#E5ECF6\",\"width\":0.5},\"pattern\":{\"fillmode\":\"overlay\",\"size\":10,\"solidity\":0.2}},\"type\":\"bar\"}],\"barpolar\":[{\"marker\":{\"line\":{\"color\":\"#E5ECF6\",\"width\":0.5},\"pattern\":{\"fillmode\":\"overlay\",\"size\":10,\"solidity\":0.2}},\"type\":\"barpolar\"}],\"carpet\":[{\"aaxis\":{\"endlinecolor\":\"#2a3f5f\",\"gridcolor\":\"white\",\"linecolor\":\"white\",\"minorgridcolor\":\"white\",\"startlinecolor\":\"#2a3f5f\"},\"baxis\":{\"endlinecolor\":\"#2a3f5f\",\"gridcolor\":\"white\",\"linecolor\":\"white\",\"minorgridcolor\":\"white\",\"startlinecolor\":\"#2a3f5f\"},\"type\":\"carpet\"}],\"choropleth\":[{\"colorbar\":{\"outlinewidth\":0,\"ticks\":\"\"},\"type\":\"choropleth\"}],\"contour\":[{\"colorbar\":{\"outlinewidth\":0,\"ticks\":\"\"},\"colorscale\":[[0.0,\"#0d0887\"],[0.1111111111111111,\"#46039f\"],[0.2222222222222222,\"#7201a8\"],[0.3333333333333333,\"#9c179e\"],[0.4444444444444444,\"#bd3786\"],[0.5555555555555556,\"#d8576b\"],[0.6666666666666666,\"#ed7953\"],[0.7777777777777778,\"#fb9f3a\"],[0.8888888888888888,\"#fdca26\"],[1.0,\"#f0f921\"]],\"type\":\"contour\"}],\"contourcarpet\":[{\"colorbar\":{\"outlinewidth\":0,\"ticks\":\"\"},\"type\":\"contourcarpet\"}],\"heatmap\":[{\"colorbar\":{\"outlinewidth\":0,\"ticks\":\"\"},\"colorscale\":[[0.0,\"#0d0887\"],[0.1111111111111111,\"#46039f\"],[0.2222222222222222,\"#7201a8\"],[0.3333333333333333,\"#9c179e\"],[0.4444444444444444,\"#bd3786\"],[0.5555555555555556,\"#d8576b\"],[0.6666666666666666,\"#ed7953\"],[0.7777777777777778,\"#fb9f3a\"],[0.8888888888888888,\"#fdca26\"],[1.0,\"#f0f921\"]],\"type\":\"heatmap\"}],\"heatmapgl\":[{\"colorbar\":{\"outlinewidth\":0,\"ticks\":\"\"},\"colorscale\":[[0.0,\"#0d0887\"],[0.1111111111111111,\"#46039f\"],[0.2222222222222222,\"#7201a8\"],[0.3333333333333333,\"#9c179e\"],[0.4444444444444444,\"#bd3786\"],[0.5555555555555556,\"#d8576b\"],[0.6666666666666666,\"#ed7953\"],[0.7777777777777778,\"#fb9f3a\"],[0.8888888888888888,\"#fdca26\"],[1.0,\"#f0f921\"]],\"type\":\"heatmapgl\"}],\"histogram\":[{\"marker\":{\"pattern\":{\"fillmode\":\"overlay\",\"size\":10,\"solidity\":0.2}},\"type\":\"histogram\"}],\"histogram2d\":[{\"colorbar\":{\"outlinewidth\":0,\"ticks\":\"\"},\"colorscale\":[[0.0,\"#0d0887\"],[0.1111111111111111,\"#46039f\"],[0.2222222222222222,\"#7201a8\"],[0.3333333333333333,\"#9c179e\"],[0.4444444444444444,\"#bd3786\"],[0.5555555555555556,\"#d8576b\"],[0.6666666666666666,\"#ed7953\"],[0.7777777777777778,\"#fb9f3a\"],[0.8888888888888888,\"#fdca26\"],[1.0,\"#f0f921\"]],\"type\":\"histogram2d\"}],\"histogram2dcontour\":[{\"colorbar\":{\"outlinewidth\":0,\"ticks\":\"\"},\"colorscale\":[[0.0,\"#0d0887\"],[0.1111111111111111,\"#46039f\"],[0.2222222222222222,\"#7201a8\"],[0.3333333333333333,\"#9c179e\"],[0.4444444444444444,\"#bd3786\"],[0.5555555555555556,\"#d8576b\"],[0.6666666666666666,\"#ed7953\"],[0.7777777777777778,\"#fb9f3a\"],[0.8888888888888888,\"#fdca26\"],[1.0,\"#f0f921\"]],\"type\":\"histogram2dcontour\"}],\"mesh3d\":[{\"colorbar\":{\"outlinewidth\":0,\"ticks\":\"\"},\"type\":\"mesh3d\"}],\"parcoords\":[{\"line\":{\"colorbar\":{\"outlinewidth\":0,\"ticks\":\"\"}},\"type\":\"parcoords\"}],\"pie\":[{\"automargin\":true,\"type\":\"pie\"}],\"scatter\":[{\"marker\":{\"colorbar\":{\"outlinewidth\":0,\"ticks\":\"\"}},\"type\":\"scatter\"}],\"scatter3d\":[{\"line\":{\"colorbar\":{\"outlinewidth\":0,\"ticks\":\"\"}},\"marker\":{\"colorbar\":{\"outlinewidth\":0,\"ticks\":\"\"}},\"type\":\"scatter3d\"}],\"scattercarpet\":[{\"marker\":{\"colorbar\":{\"outlinewidth\":0,\"ticks\":\"\"}},\"type\":\"scattercarpet\"}],\"scattergeo\":[{\"marker\":{\"colorbar\":{\"outlinewidth\":0,\"ticks\":\"\"}},\"type\":\"scattergeo\"}],\"scattergl\":[{\"marker\":{\"colorbar\":{\"outlinewidth\":0,\"ticks\":\"\"}},\"type\":\"scattergl\"}],\"scattermapbox\":[{\"marker\":{\"colorbar\":{\"outlinewidth\":0,\"ticks\":\"\"}},\"type\":\"scattermapbox\"}],\"scatterpolar\":[{\"marker\":{\"colorbar\":{\"outlinewidth\":0,\"ticks\":\"\"}},\"type\":\"scatterpolar\"}],\"scatterpolargl\":[{\"marker\":{\"colorbar\":{\"outlinewidth\":0,\"ticks\":\"\"}},\"type\":\"scatterpolargl\"}],\"scatterternary\":[{\"marker\":{\"colorbar\":{\"outlinewidth\":0,\"ticks\":\"\"}},\"type\":\"scatterternary\"}],\"surface\":[{\"colorbar\":{\"outlinewidth\":0,\"ticks\":\"\"},\"colorscale\":[[0.0,\"#0d0887\"],[0.1111111111111111,\"#46039f\"],[0.2222222222222222,\"#7201a8\"],[0.3333333333333333,\"#9c179e\"],[0.4444444444444444,\"#bd3786\"],[0.5555555555555556,\"#d8576b\"],[0.6666666666666666,\"#ed7953\"],[0.7777777777777778,\"#fb9f3a\"],[0.8888888888888888,\"#fdca26\"],[1.0,\"#f0f921\"]],\"type\":\"surface\"}],\"table\":[{\"cells\":{\"fill\":{\"color\":\"#EBF0F8\"},\"line\":{\"color\":\"white\"}},\"header\":{\"fill\":{\"color\":\"#C8D4E3\"},\"line\":{\"color\":\"white\"}},\"type\":\"table\"}]},\"layout\":{\"annotationdefaults\":{\"arrowcolor\":\"#2a3f5f\",\"arrowhead\":0,\"arrowwidth\":1},\"autotypenumbers\":\"strict\",\"coloraxis\":{\"colorbar\":{\"outlinewidth\":0,\"ticks\":\"\"}},\"colorscale\":{\"diverging\":[[0,\"#8e0152\"],[0.1,\"#c51b7d\"],[0.2,\"#de77ae\"],[0.3,\"#f1b6da\"],[0.4,\"#fde0ef\"],[0.5,\"#f7f7f7\"],[0.6,\"#e6f5d0\"],[0.7,\"#b8e186\"],[0.8,\"#7fbc41\"],[0.9,\"#4d9221\"],[1,\"#276419\"]],\"sequential\":[[0.0,\"#0d0887\"],[0.1111111111111111,\"#46039f\"],[0.2222222222222222,\"#7201a8\"],[0.3333333333333333,\"#9c179e\"],[0.4444444444444444,\"#bd3786\"],[0.5555555555555556,\"#d8576b\"],[0.6666666666666666,\"#ed7953\"],[0.7777777777777778,\"#fb9f3a\"],[0.8888888888888888,\"#fdca26\"],[1.0,\"#f0f921\"]],\"sequentialminus\":[[0.0,\"#0d0887\"],[0.1111111111111111,\"#46039f\"],[0.2222222222222222,\"#7201a8\"],[0.3333333333333333,\"#9c179e\"],[0.4444444444444444,\"#bd3786\"],[0.5555555555555556,\"#d8576b\"],[0.6666666666666666,\"#ed7953\"],[0.7777777777777778,\"#fb9f3a\"],[0.8888888888888888,\"#fdca26\"],[1.0,\"#f0f921\"]]},\"colorway\":[\"#636efa\",\"#EF553B\",\"#00cc96\",\"#ab63fa\",\"#FFA15A\",\"#19d3f3\",\"#FF6692\",\"#B6E880\",\"#FF97FF\",\"#FECB52\"],\"font\":{\"color\":\"#2a3f5f\"},\"geo\":{\"bgcolor\":\"white\",\"lakecolor\":\"white\",\"landcolor\":\"#E5ECF6\",\"showlakes\":true,\"showland\":true,\"subunitcolor\":\"white\"},\"hoverlabel\":{\"align\":\"left\"},\"hovermode\":\"closest\",\"mapbox\":{\"style\":\"light\"},\"paper_bgcolor\":\"white\",\"plot_bgcolor\":\"#E5ECF6\",\"polar\":{\"angularaxis\":{\"gridcolor\":\"white\",\"linecolor\":\"white\",\"ticks\":\"\"},\"bgcolor\":\"#E5ECF6\",\"radialaxis\":{\"gridcolor\":\"white\",\"linecolor\":\"white\",\"ticks\":\"\"}},\"scene\":{\"xaxis\":{\"backgroundcolor\":\"#E5ECF6\",\"gridcolor\":\"white\",\"gridwidth\":2,\"linecolor\":\"white\",\"showbackground\":true,\"ticks\":\"\",\"zerolinecolor\":\"white\"},\"yaxis\":{\"backgroundcolor\":\"#E5ECF6\",\"gridcolor\":\"white\",\"gridwidth\":2,\"linecolor\":\"white\",\"showbackground\":true,\"ticks\":\"\",\"zerolinecolor\":\"white\"},\"zaxis\":{\"backgroundcolor\":\"#E5ECF6\",\"gridcolor\":\"white\",\"gridwidth\":2,\"linecolor\":\"white\",\"showbackground\":true,\"ticks\":\"\",\"zerolinecolor\":\"white\"}},\"shapedefaults\":{\"line\":{\"color\":\"#2a3f5f\"}},\"ternary\":{\"aaxis\":{\"gridcolor\":\"white\",\"linecolor\":\"white\",\"ticks\":\"\"},\"baxis\":{\"gridcolor\":\"white\",\"linecolor\":\"white\",\"ticks\":\"\"},\"bgcolor\":\"#E5ECF6\",\"caxis\":{\"gridcolor\":\"white\",\"linecolor\":\"white\",\"ticks\":\"\"}},\"title\":{\"x\":0.05},\"xaxis\":{\"automargin\":true,\"gridcolor\":\"white\",\"linecolor\":\"white\",\"ticks\":\"\",\"title\":{\"standoff\":15},\"zerolinecolor\":\"white\",\"zerolinewidth\":2},\"yaxis\":{\"automargin\":true,\"gridcolor\":\"white\",\"linecolor\":\"white\",\"ticks\":\"\",\"title\":{\"standoff\":15},\"zerolinecolor\":\"white\",\"zerolinewidth\":2}}},\"mapbox\":{\"domain\":{\"x\":[0.0,1.0],\"y\":[0.0,1.0]},\"center\":{},\"zoom\":1,\"style\":\"carto-positron\"},\"coloraxis\":{\"colorbar\":{\"title\":{\"text\":\"UV radiation rates\"}},\"colorscale\":[[0.0,\"rgb(3, 35, 51)\"],[0.09090909090909091,\"rgb(13, 48, 100)\"],[0.18181818181818182,\"rgb(53, 50, 155)\"],[0.2727272727272727,\"rgb(93, 62, 153)\"],[0.36363636363636365,\"rgb(126, 77, 143)\"],[0.45454545454545453,\"rgb(158, 89, 135)\"],[0.5454545454545454,\"rgb(193, 100, 121)\"],[0.6363636363636364,\"rgb(225, 113, 97)\"],[0.7272727272727273,\"rgb(246, 139, 69)\"],[0.8181818181818182,\"rgb(251, 173, 60)\"],[0.9090909090909091,\"rgb(246, 211, 70)\"],[1.0,\"rgb(231, 250, 90)\"]],\"cmin\":0,\"cmax\":12},\"legend\":{\"tracegroupgap\":0},\"title\":{\"text\":\"UV Radiation across the World\"}},                        {\"responsive\": true}                    ).then(function(){\n",
       "                            \n",
       "var gd = document.getElementById('a19ce100-8116-4d14-8cde-a4035ff04375');\n",
       "var x = new MutationObserver(function (mutations, observer) {{\n",
       "        var display = window.getComputedStyle(gd).display;\n",
       "        if (!display || display === 'none') {{\n",
       "            console.log([gd, 'removed!']);\n",
       "            Plotly.purge(gd);\n",
       "            observer.disconnect();\n",
       "        }}\n",
       "}});\n",
       "\n",
       "// Listen for the removal of the full notebook cells\n",
       "var notebookContainer = gd.closest('#notebook-container');\n",
       "if (notebookContainer) {{\n",
       "    x.observe(notebookContainer, {childList: true});\n",
       "}}\n",
       "\n",
       "// Listen for the clearing of the current output cell\n",
       "var outputEl = gd.closest('.output');\n",
       "if (outputEl) {{\n",
       "    x.observe(outputEl, {childList: true});\n",
       "}}\n",
       "\n",
       "                        })                };                });            </script>        </div>"
      ]
     },
     "metadata": {},
     "output_type": "display_data"
    }
   ],
   "source": [
    "#Plot choropleth \n",
    "fig = px.choropleth_mapbox(merged_world_stats, locations='Country', color='UV radiation',\n",
    "                           color_continuous_scale=\"Thermal\",\n",
    "                           range_color=(0, 12),\n",
    "                           mapbox_style=\"carto-positron\",\n",
    "                           zoom=1,\n",
    "                           opacity=0.5,\n",
    "                           labels={'UV radiation':'UV radiation rates'},\n",
    "                           title=\"UV Radiation across the World\"\n",
    "                          )\n",
    "fig.show()"
   ]
  },
  {
   "cell_type": "code",
   "execution_count": 59,
   "id": "804c14b2",
   "metadata": {},
   "outputs": [
    {
     "data": {
      "text/html": [
       "<div>\n",
       "<style scoped>\n",
       "    .dataframe tbody tr th:only-of-type {\n",
       "        vertical-align: middle;\n",
       "    }\n",
       "\n",
       "    .dataframe tbody tr th {\n",
       "        vertical-align: top;\n",
       "    }\n",
       "\n",
       "    .dataframe thead th {\n",
       "        text-align: right;\n",
       "    }\n",
       "</style>\n",
       "<table border=\"1\" class=\"dataframe\">\n",
       "  <thead>\n",
       "    <tr style=\"text-align: right;\">\n",
       "      <th></th>\n",
       "      <th>Rate of Melanoma in Men</th>\n",
       "      <th>UV radiation</th>\n",
       "    </tr>\n",
       "    <tr>\n",
       "      <th>Country</th>\n",
       "      <th></th>\n",
       "      <th></th>\n",
       "    </tr>\n",
       "  </thead>\n",
       "  <tbody>\n",
       "    <tr>\n",
       "      <th>Australia</th>\n",
       "      <td>40.4</td>\n",
       "      <td>1888</td>\n",
       "    </tr>\n",
       "    <tr>\n",
       "      <th>New Zealand</th>\n",
       "      <td>35.8</td>\n",
       "      <td>2487</td>\n",
       "    </tr>\n",
       "    <tr>\n",
       "      <th>Norway</th>\n",
       "      <td>29.0</td>\n",
       "      <td>1439</td>\n",
       "    </tr>\n",
       "    <tr>\n",
       "      <th>Netherlands</th>\n",
       "      <td>26.4</td>\n",
       "      <td>1662</td>\n",
       "    </tr>\n",
       "    <tr>\n",
       "      <th>Sweden</th>\n",
       "      <td>23.5</td>\n",
       "      <td>1587</td>\n",
       "    </tr>\n",
       "    <tr>\n",
       "      <th>Switzerland</th>\n",
       "      <td>23.4</td>\n",
       "      <td>2158</td>\n",
       "    </tr>\n",
       "    <tr>\n",
       "      <th>Denmark</th>\n",
       "      <td>22.4</td>\n",
       "      <td>1691</td>\n",
       "    </tr>\n",
       "    <tr>\n",
       "      <th>Germany</th>\n",
       "      <td>19.6</td>\n",
       "      <td>1812</td>\n",
       "    </tr>\n",
       "    <tr>\n",
       "      <th>Luxembourg</th>\n",
       "      <td>18.1</td>\n",
       "      <td>1687</td>\n",
       "    </tr>\n",
       "    <tr>\n",
       "      <th>Slovenia</th>\n",
       "      <td>18.0</td>\n",
       "      <td>2256</td>\n",
       "    </tr>\n",
       "    <tr>\n",
       "      <th>Belgium</th>\n",
       "      <td>16.2</td>\n",
       "      <td>1645</td>\n",
       "    </tr>\n",
       "    <tr>\n",
       "      <th>Finland</th>\n",
       "      <td>16.2</td>\n",
       "      <td>1494</td>\n",
       "    </tr>\n",
       "    <tr>\n",
       "      <th>Austria</th>\n",
       "      <td>15.0</td>\n",
       "      <td>3206</td>\n",
       "    </tr>\n",
       "    <tr>\n",
       "      <th>UK</th>\n",
       "      <td>15.0</td>\n",
       "      <td>1576</td>\n",
       "    </tr>\n",
       "    <tr>\n",
       "      <th>US</th>\n",
       "      <td>14.9</td>\n",
       "      <td>2736</td>\n",
       "    </tr>\n",
       "    <tr>\n",
       "      <th>France (metropolitan)</th>\n",
       "      <td>14.4</td>\n",
       "      <td>1907</td>\n",
       "    </tr>\n",
       "    <tr>\n",
       "      <th>Italy</th>\n",
       "      <td>14.0</td>\n",
       "      <td>2444</td>\n",
       "    </tr>\n",
       "    <tr>\n",
       "      <th>Ireland</th>\n",
       "      <td>13.6</td>\n",
       "      <td>1509</td>\n",
       "    </tr>\n",
       "    <tr>\n",
       "      <th>Canada</th>\n",
       "      <td>13.4</td>\n",
       "      <td>1887</td>\n",
       "    </tr>\n",
       "    <tr>\n",
       "      <th>Czech Republic</th>\n",
       "      <td>13.3</td>\n",
       "      <td>1707</td>\n",
       "    </tr>\n",
       "  </tbody>\n",
       "</table>\n",
       "</div>"
      ],
      "text/plain": [
       "                       Rate of Melanoma in Men  UV radiation\n",
       "Country                                                     \n",
       "Australia                                 40.4          1888\n",
       "New Zealand                               35.8          2487\n",
       "Norway                                    29.0          1439\n",
       "Netherlands                               26.4          1662\n",
       "Sweden                                    23.5          1587\n",
       "Switzerland                               23.4          2158\n",
       "Denmark                                   22.4          1691\n",
       "Germany                                   19.6          1812\n",
       "Luxembourg                                18.1          1687\n",
       "Slovenia                                  18.0          2256\n",
       "Belgium                                   16.2          1645\n",
       "Finland                                   16.2          1494\n",
       "Austria                                   15.0          3206\n",
       "UK                                        15.0          1576\n",
       "US                                        14.9          2736\n",
       "France (metropolitan)                     14.4          1907\n",
       "Italy                                     14.0          2444\n",
       "Ireland                                   13.6          1509\n",
       "Canada                                    13.4          1887\n",
       "Czech Republic                            13.3          1707"
      ]
     },
     "execution_count": 59,
     "metadata": {},
     "output_type": "execute_result"
    }
   ],
   "source": [
    "#P-value\n",
    "#Data on Melanoma rates in these specific countries were found https://www.wcrf.org/dietandcancer/skin-cancer-statistics/\n",
    "#Melanoma rates in men and compare them to the UV radiation levels in the given countries\n",
    "#Create a table showcasing Rate of Melanoma in Men to UV radiation\n",
    "\n",
    "MelanomaMen = pd.read_csv(\"MelanomaMen.csv\", index_col = 0)\n",
    "\n",
    "MelanomaMen"
   ]
  },
  {
   "cell_type": "code",
   "execution_count": 84,
   "id": "3a026462",
   "metadata": {},
   "outputs": [],
   "source": [
    "from statistics import mean, stdev\n",
    "from scipy import stats"
   ]
  },
  {
   "cell_type": "code",
   "execution_count": 80,
   "id": "217c4036",
   "metadata": {},
   "outputs": [
    {
     "data": {
      "text/plain": [
       "20.13"
      ]
     },
     "execution_count": 80,
     "metadata": {},
     "output_type": "execute_result"
    }
   ],
   "source": [
    "#Find the mean and stdev of the Rates of Melanoma in Men in the given countries\n",
    "#Referenced https://pythonforundergradengineers.com/statistics-in-python-using-the-statistics-module.html\n",
    "\n",
    "Melanoma_Men_Data = [40.4,35.8,29.0,26.4,23.5,23.4,22.4,19.6,18.1,18.0,16.2,16.2,15.0,15.0,14.9,14.4,14.0,13.6,13.4,13.3]\n",
    "\n",
    "mean(Melanoma_Men_Data)\n"
   ]
  },
  {
   "cell_type": "code",
   "execution_count": 81,
   "id": "370dd4d3",
   "metadata": {
    "scrolled": true
   },
   "outputs": [
    {
     "data": {
      "text/plain": [
       "7.699699242246584"
      ]
     },
     "execution_count": 81,
     "metadata": {},
     "output_type": "execute_result"
    }
   ],
   "source": [
    "stdev(Melanoma_Men_Data)"
   ]
  },
  {
   "cell_type": "code",
   "execution_count": 82,
   "id": "f75f09e0",
   "metadata": {},
   "outputs": [
    {
     "data": {
      "text/plain": [
       "1938.9"
      ]
     },
     "execution_count": 82,
     "metadata": {},
     "output_type": "execute_result"
    }
   ],
   "source": [
    "#Find the mean and stdev of UV Radiation in the given countries\n",
    "#Referenced https://pythonforundergradengineers.com/statistics-in-python-using-the-statistics-module.html\n",
    "\n",
    "UVRadiation_Data = [1888,2487,1439,1662,1587,2158,1691,1812,1687,2256,1645,1494,3206,1576,2736,1907,2444,1509,1887,1707\n",
    "]\n",
    "\n",
    "mean(UVRadiation_Data)"
   ]
  },
  {
   "cell_type": "code",
   "execution_count": 83,
   "id": "7e22952d",
   "metadata": {},
   "outputs": [
    {
     "data": {
      "text/plain": [
       "470.01286656520597"
      ]
     },
     "execution_count": 83,
     "metadata": {},
     "output_type": "execute_result"
    }
   ],
   "source": [
    "stdev(UVRadiation_Data)"
   ]
  },
  {
   "cell_type": "code",
   "execution_count": 86,
   "id": "32474089",
   "metadata": {},
   "outputs": [
    {
     "name": "stdout",
     "output_type": "stream",
     "text": [
      "Ttest_indResult(statistic=-22.00347425901091, pvalue=3.1804104899928445e-23)\n"
     ]
    }
   ],
   "source": [
    "#Find p-value with given mean's and stdev's that have been found\n",
    "#Referenced https://www.tutorialspoint.com/python_data_science/python_p_value.htm\n",
    "#Loc represents the mean, scale is the stdev, and size is the size of the sample\n",
    "\n",
    "Melanoma_Men = stats.norm.rvs(loc = 20.13,scale = 7.699699242246584,size = 20)\n",
    "\n",
    "UVRadiationData =stats.norm.rvs(loc = 1938.9, scale = 470.01286656520597,size =20)\n",
    "\n",
    "print(stats.ttest_ind(Melanoma_Men,UVRadiationData))"
   ]
  },
  {
   "cell_type": "code",
   "execution_count": 87,
   "id": "508a376b",
   "metadata": {},
   "outputs": [
    {
     "data": {
      "text/html": [
       "<div>\n",
       "<style scoped>\n",
       "    .dataframe tbody tr th:only-of-type {\n",
       "        vertical-align: middle;\n",
       "    }\n",
       "\n",
       "    .dataframe tbody tr th {\n",
       "        vertical-align: top;\n",
       "    }\n",
       "\n",
       "    .dataframe thead th {\n",
       "        text-align: right;\n",
       "    }\n",
       "</style>\n",
       "<table border=\"1\" class=\"dataframe\">\n",
       "  <thead>\n",
       "    <tr style=\"text-align: right;\">\n",
       "      <th></th>\n",
       "      <th>Rate of Melanoma in Women</th>\n",
       "      <th>UV radiation</th>\n",
       "    </tr>\n",
       "    <tr>\n",
       "      <th>Country</th>\n",
       "      <th></th>\n",
       "      <th></th>\n",
       "    </tr>\n",
       "  </thead>\n",
       "  <tbody>\n",
       "    <tr>\n",
       "      <th>Australia</th>\n",
       "      <td>12.6</td>\n",
       "      <td>1888</td>\n",
       "    </tr>\n",
       "    <tr>\n",
       "      <th>New Zealand</th>\n",
       "      <td>31.1</td>\n",
       "      <td>2487</td>\n",
       "    </tr>\n",
       "    <tr>\n",
       "      <th>Norway</th>\n",
       "      <td>30.7</td>\n",
       "      <td>1439</td>\n",
       "    </tr>\n",
       "    <tr>\n",
       "      <th>Netherlands</th>\n",
       "      <td>25.4</td>\n",
       "      <td>1662</td>\n",
       "    </tr>\n",
       "    <tr>\n",
       "      <th>Sweden</th>\n",
       "      <td>26.2</td>\n",
       "      <td>1587</td>\n",
       "    </tr>\n",
       "    <tr>\n",
       "      <th>Switzerland</th>\n",
       "      <td>19.5</td>\n",
       "      <td>2158</td>\n",
       "    </tr>\n",
       "    <tr>\n",
       "      <th>Denmark</th>\n",
       "      <td>33.1</td>\n",
       "      <td>1691</td>\n",
       "    </tr>\n",
       "    <tr>\n",
       "      <th>Germany</th>\n",
       "      <td>24.0</td>\n",
       "      <td>1812</td>\n",
       "    </tr>\n",
       "    <tr>\n",
       "      <th>Luxembourg</th>\n",
       "      <td>15.4</td>\n",
       "      <td>1687</td>\n",
       "    </tr>\n",
       "    <tr>\n",
       "      <th>Slovenia</th>\n",
       "      <td>19.7</td>\n",
       "      <td>2256</td>\n",
       "    </tr>\n",
       "    <tr>\n",
       "      <th>Belgium</th>\n",
       "      <td>23.9</td>\n",
       "      <td>1645</td>\n",
       "    </tr>\n",
       "    <tr>\n",
       "      <th>Finland</th>\n",
       "      <td>15.9</td>\n",
       "      <td>1494</td>\n",
       "    </tr>\n",
       "    <tr>\n",
       "      <th>Austria</th>\n",
       "      <td>12.6</td>\n",
       "      <td>3206</td>\n",
       "    </tr>\n",
       "    <tr>\n",
       "      <th>UK</th>\n",
       "      <td>15.3</td>\n",
       "      <td>1576</td>\n",
       "    </tr>\n",
       "    <tr>\n",
       "      <th>US</th>\n",
       "      <td>11.0</td>\n",
       "      <td>2736</td>\n",
       "    </tr>\n",
       "    <tr>\n",
       "      <th>France (metropolitan)</th>\n",
       "      <td>12.9</td>\n",
       "      <td>1907</td>\n",
       "    </tr>\n",
       "    <tr>\n",
       "      <th>Italy</th>\n",
       "      <td>11.0</td>\n",
       "      <td>2444</td>\n",
       "    </tr>\n",
       "    <tr>\n",
       "      <th>Ireland</th>\n",
       "      <td>19.0</td>\n",
       "      <td>1509</td>\n",
       "    </tr>\n",
       "    <tr>\n",
       "      <th>Canada</th>\n",
       "      <td>11.7</td>\n",
       "      <td>1887</td>\n",
       "    </tr>\n",
       "    <tr>\n",
       "      <th>Czech Republic</th>\n",
       "      <td>12.4</td>\n",
       "      <td>1707</td>\n",
       "    </tr>\n",
       "  </tbody>\n",
       "</table>\n",
       "</div>"
      ],
      "text/plain": [
       "                       Rate of Melanoma in Women  UV radiation\n",
       "Country                                                       \n",
       "Australia                                   12.6          1888\n",
       "New Zealand                                 31.1          2487\n",
       "Norway                                      30.7          1439\n",
       "Netherlands                                 25.4          1662\n",
       "Sweden                                      26.2          1587\n",
       "Switzerland                                 19.5          2158\n",
       "Denmark                                     33.1          1691\n",
       "Germany                                     24.0          1812\n",
       "Luxembourg                                  15.4          1687\n",
       "Slovenia                                    19.7          2256\n",
       "Belgium                                     23.9          1645\n",
       "Finland                                     15.9          1494\n",
       "Austria                                     12.6          3206\n",
       "UK                                          15.3          1576\n",
       "US                                          11.0          2736\n",
       "France (metropolitan)                       12.9          1907\n",
       "Italy                                       11.0          2444\n",
       "Ireland                                     19.0          1509\n",
       "Canada                                      11.7          1887\n",
       "Czech Republic                              12.4          1707"
      ]
     },
     "execution_count": 87,
     "metadata": {},
     "output_type": "execute_result"
    }
   ],
   "source": [
    "#Look at the Melanoma rates in women and compare them to the UV radiation levels in the given countries\n",
    "#Create table showcasing Rate of Melanoma in Women to UV radiation\n",
    "\n",
    "MelanomaWomen = pd.read_csv(\"MelanomaWomen.csv\", index_col = 0)\n",
    "\n",
    "MelanomaWomen"
   ]
  },
  {
   "cell_type": "code",
   "execution_count": 88,
   "id": "08200206",
   "metadata": {},
   "outputs": [
    {
     "data": {
      "text/plain": [
       "19.17"
      ]
     },
     "execution_count": 88,
     "metadata": {},
     "output_type": "execute_result"
    }
   ],
   "source": [
    "#Find the mean and stdev of the Rates of Melanoma in Women in the given countries (countries are the same as those for men)\n",
    "Melanoma_Women_Data = [12.6,31.1,30.7,25.4,26.2,19.5,33.1,24,15.4,19.7,23.9,15.9,12.6,15.3,11,12.9,11,19,11.7,12.4]\n",
    "\n",
    "mean(Melanoma_Women_Data)"
   ]
  },
  {
   "cell_type": "code",
   "execution_count": 89,
   "id": "9595cc71",
   "metadata": {},
   "outputs": [
    {
     "data": {
      "text/plain": [
       "7.270423139788973"
      ]
     },
     "execution_count": 89,
     "metadata": {},
     "output_type": "execute_result"
    }
   ],
   "source": [
    "stdev(Melanoma_Women_Data)"
   ]
  },
  {
   "cell_type": "code",
   "execution_count": 90,
   "id": "13e701fd",
   "metadata": {},
   "outputs": [
    {
     "name": "stdout",
     "output_type": "stream",
     "text": [
      "Ttest_indResult(statistic=-16.879485082764074, pvalue=3.0067785747723396e-19)\n"
     ]
    }
   ],
   "source": [
    "#Find p-values with mean's and stdev's found \n",
    "Melanoma_Women = stats.norm.rvs(loc = 19.17,scale = 7.270423139788973,size = 20)\n",
    "\n",
    "UVRadiationData =stats.norm.rvs(loc = 1938.9, scale = 470.01286656520597,size =20)\n",
    "\n",
    "print(stats.ttest_ind(Melanoma_Women,UVRadiationData))"
   ]
  },
  {
   "cell_type": "code",
   "execution_count": 99,
   "id": "1ba73375",
   "metadata": {},
   "outputs": [],
   "source": [
    "import matplotlib.pyplot as plt\n",
    "import numpy as np"
   ]
  },
  {
   "cell_type": "code",
   "execution_count": 132,
   "id": "48e27bc7",
   "metadata": {},
   "outputs": [
    {
     "data": {
      "image/png": "[encoded data removed]",
      "text/plain": [
       "<Figure size 432x288 with 1 Axes>"
      ]
     },
     "metadata": {
      "needs_background": "light"
     },
     "output_type": "display_data"
    }
   ],
   "source": [
    "#Histogram to represent the Rates of Melanoma in Men in comparison to UV radiation\n",
    "#Referenced https://stackoverflow.com/questions/33203645/how-to-plot-a-histogram-using-matplotlib-in-python-with-a-list-of-data\n",
    "plt.style.use('seaborn-deep')\n",
    "\n",
    "x = np.random.normal(Melanoma_Men_Data)\n",
    "y =np.random.normal(UVRadiation_Data)\n",
    "bins = np.linspace(10, 20, 50)\n",
    "\n",
    "plt.hist([x, y], bins, label=['x', 'y'])\n",
    "plt.legend(loc='upper right')\n",
    "plt.show()"
   ]
  },
  {
   "cell_type": "code",
   "execution_count": 133,
   "id": "4ac9b305",
   "metadata": {},
   "outputs": [
    {
     "data": {
      "image/png": "[encoded data removed]",
      "text/plain": [
       "<Figure size 432x288 with 1 Axes>"
      ]
     },
     "metadata": {
      "needs_background": "light"
     },
     "output_type": "display_data"
    }
   ],
   "source": [
    "#Histogram to represent the Rates of Melanoma in Men in comparison to UV radiation\n",
    "plt.style.use('seaborn-deep')\n",
    "\n",
    "x = np.random.normal(Melanoma_Women_Data)\n",
    "y =np.random.normal(UVRadiation_Data)\n",
    "bins = np.linspace(10, 20, 50)\n",
    "\n",
    "plt.hist([x, y], bins, label=['x', 'y'])\n",
    "plt.legend(loc='upper right')\n",
    "plt.show()"
   ]
  },
  {
   "cell_type": "code",
   "execution_count": null,
   "id": "78af0567",
   "metadata": {},
   "outputs": [],
   "source": []
  }
 ],
 "metadata": {
  "kernelspec": {
   "display_name": "Python 3",
   "language": "python",
   "name": "python3"
  },
  "language_info": {
   "codemirror_mode": {
    "name": "ipython",
    "version": 3
   },
   "file_extension": ".py",
   "mimetype": "text/x-python",
   "name": "python",
   "nbconvert_exporter": "python",
   "pygments_lexer": "ipython3",
   "version": "3.8.8"
  }
 },
 "nbformat": 4,
 "nbformat_minor": 5
}
